{
 "cells": [
  {
   "cell_type": "code",
   "execution_count": 1,
   "metadata": {},
   "outputs": [],
   "source": [
    "import tensorflow as tf\n",
    "import numpy as np"
   ]
  },
  {
   "cell_type": "code",
   "execution_count": 2,
   "metadata": {},
   "outputs": [],
   "source": [
    "x_feature = tf.feature_column.numeric_column('f1')"
   ]
  },
  {
   "cell_type": "code",
   "execution_count": 3,
   "metadata": {},
   "outputs": [],
   "source": [
    "train_features = np.array([1., 2., 3., 4.])\n",
    "train_labels = np.array([1.5, 3.5, 5.5, 7.5])\n",
    "\n",
    "def train_input_fn():\n",
    "    def decode_csv(line):\n",
    "        parsed_line = tf.decode_csv(line, [[0.], [0.]])\n",
    "        label = parsed_line[-1:]  # Last element is the label\n",
    "        del parsed_line[-1]       # Delete last element\n",
    "        features = parsed_line\n",
    "        d = dict(zip([\"f1\"], features))\n",
    "        return d, tf.squeeze(label)\n",
    "    dataset = tf.data.TextLineDataset('train.csv').map(decode_csv)\n",
    "    dataset = dataset.shuffle(1000).repeat().batch(2)\n",
    "    #return dataset.make_one_shot_iterator().get_next()\n",
    "    return dataset\n",
    "\n",
    "test_features = np.array([5., 6., 7.])\n",
    "test_labels = np.array([9.5, 11.5, 13.5])\n",
    "\n",
    "def test_input_fn():\n",
    "    dataset = tf.data.Dataset.from_tensor_slices(({\"f1\": test_features}, test_labels))\n",
    "    dataset = dataset.repeat(1).batch(len(test_features)) # batch cannot be none\n",
    "    return dataset\n",
    "\n",
    "samples = np.array([8., 9.])\n",
    "def predict_input_fn():\n",
    "    dataset = tf.data.Dataset.from_tensor_slices(({\"f1\": samples}))\n",
    "    dataset = dataset.repeat(1).batch(len(samples)) # batch cannot be none\n",
    "    return dataset"
   ]
  },
  {
   "cell_type": "code",
   "execution_count": 4,
   "metadata": {},
   "outputs": [
    {
     "name": "stdout",
     "output_type": "stream",
     "text": [
      "INFO:tensorflow:Using config: {'_model_dir': './output', '_tf_random_seed': None, '_save_summary_steps': 100, '_save_checkpoints_steps': None, '_save_checkpoints_secs': 600, '_session_config': allow_soft_placement: true\n",
      "graph_options {\n",
      "  rewrite_options {\n",
      "    meta_optimizer_iterations: ONE\n",
      "  }\n",
      "}\n",
      ", '_keep_checkpoint_max': 5, '_keep_checkpoint_every_n_hours': 10000, '_log_step_count_steps': 100, '_train_distribute': None, '_device_fn': None, '_protocol': None, '_eval_distribute': None, '_experimental_distribute': None, '_service': None, '_cluster_spec': <tensorflow.python.training.server_lib.ClusterSpec object at 0x0000000004FA0470>, '_task_type': 'worker', '_task_id': 0, '_global_id_in_cluster': 0, '_master': '', '_evaluation_master': '', '_is_chief': True, '_num_ps_replicas': 0, '_num_worker_replicas': 1}\n"
     ]
    }
   ],
   "source": [
    "run_config = tf.estimator.RunConfig(\n",
    "    model_dir='./output'\n",
    ")\n",
    "regressor = tf.estimator.LinearRegressor(\n",
    "    feature_columns=[x_feature],\n",
    "    config = run_config\n",
    ")"
   ]
  },
  {
   "cell_type": "code",
   "execution_count": 5,
   "metadata": {},
   "outputs": [
    {
     "name": "stdout",
     "output_type": "stream",
     "text": [
      "INFO:tensorflow:Calling model_fn.\n",
      "INFO:tensorflow:Done calling model_fn.\n",
      "INFO:tensorflow:Create CheckpointSaverHook.\n",
      "INFO:tensorflow:Graph was finalized.\n",
      "INFO:tensorflow:Running local_init_op.\n",
      "INFO:tensorflow:Done running local_init_op.\n",
      "INFO:tensorflow:Saving checkpoints for 0 into ./output\\model.ckpt.\n",
      "INFO:tensorflow:loss = 42.5, step = 1\n",
      "INFO:tensorflow:global_step/sec: 769.23\n",
      "INFO:tensorflow:loss = 0.6352361, step = 101 (0.131 sec)\n",
      "INFO:tensorflow:global_step/sec: 990.098\n",
      "INFO:tensorflow:loss = 0.41451082, step = 201 (0.101 sec)\n",
      "INFO:tensorflow:global_step/sec: 909.09\n",
      "INFO:tensorflow:loss = 0.5739738, step = 301 (0.111 sec)\n",
      "INFO:tensorflow:global_step/sec: 840.338\n",
      "INFO:tensorflow:loss = 0.38945118, step = 401 (0.118 sec)\n",
      "INFO:tensorflow:global_step/sec: 900.9\n",
      "INFO:tensorflow:loss = 0.13158627, step = 501 (0.111 sec)\n",
      "INFO:tensorflow:global_step/sec: 854.7\n",
      "INFO:tensorflow:loss = 0.059939105, step = 601 (0.117 sec)\n",
      "INFO:tensorflow:global_step/sec: 917.429\n",
      "INFO:tensorflow:loss = 0.12845269, step = 701 (0.108 sec)\n",
      "INFO:tensorflow:global_step/sec: 970.877\n",
      "INFO:tensorflow:loss = 0.100895755, step = 801 (0.104 sec)\n",
      "INFO:tensorflow:global_step/sec: 909.09\n",
      "INFO:tensorflow:loss = 0.050940152, step = 901 (0.111 sec)\n",
      "INFO:tensorflow:global_step/sec: 917.431\n",
      "INFO:tensorflow:loss = 0.013704061, step = 1001 (0.108 sec)\n",
      "INFO:tensorflow:global_step/sec: 900.9\n",
      "INFO:tensorflow:loss = 0.02950111, step = 1101 (0.112 sec)\n",
      "INFO:tensorflow:global_step/sec: 884.956\n",
      "INFO:tensorflow:loss = 0.0036511945, step = 1201 (0.113 sec)\n",
      "INFO:tensorflow:global_step/sec: 900.9\n",
      "INFO:tensorflow:loss = 0.002552465, step = 1301 (0.111 sec)\n",
      "INFO:tensorflow:global_step/sec: 917.431\n",
      "INFO:tensorflow:loss = 0.009864417, step = 1401 (0.109 sec)\n",
      "INFO:tensorflow:global_step/sec: 877.192\n",
      "INFO:tensorflow:loss = 0.001236797, step = 1501 (0.113 sec)\n",
      "INFO:tensorflow:global_step/sec: 877.194\n",
      "INFO:tensorflow:loss = 0.0015108736, step = 1601 (0.115 sec)\n",
      "INFO:tensorflow:global_step/sec: 892.857\n",
      "INFO:tensorflow:loss = 0.0037429836, step = 1701 (0.111 sec)\n",
      "INFO:tensorflow:global_step/sec: 900.9\n",
      "INFO:tensorflow:loss = 0.0018940059, step = 1801 (0.111 sec)\n",
      "INFO:tensorflow:global_step/sec: 892.857\n",
      "INFO:tensorflow:loss = 0.00077426655, step = 1901 (0.112 sec)\n",
      "INFO:tensorflow:global_step/sec: 892.857\n",
      "INFO:tensorflow:loss = 0.00019785266, step = 2001 (0.112 sec)\n",
      "INFO:tensorflow:global_step/sec: 869.563\n",
      "INFO:tensorflow:loss = 0.00037395064, step = 2101 (0.115 sec)\n",
      "INFO:tensorflow:global_step/sec: 909.094\n",
      "INFO:tensorflow:loss = 0.00052780285, step = 2201 (0.110 sec)\n",
      "INFO:tensorflow:global_step/sec: 529.1\n",
      "INFO:tensorflow:loss = 0.0003047079, step = 2301 (0.190 sec)\n",
      "INFO:tensorflow:global_step/sec: 621.118\n",
      "INFO:tensorflow:loss = 4.612597e-05, step = 2401 (0.160 sec)\n",
      "INFO:tensorflow:Saving checkpoints for 2500 into ./output\\model.ckpt.\n",
      "INFO:tensorflow:Loss for final step: 6.264362e-05.\n"
     ]
    },
    {
     "data": {
      "text/plain": [
       "<tensorflow.python.estimator.canned.linear.LinearRegressor at 0xc45af28>"
      ]
     },
     "execution_count": 5,
     "metadata": {},
     "output_type": "execute_result"
    }
   ],
   "source": [
    "regressor.train(input_fn=train_input_fn, steps=2500) # incremental\n",
    "#regressor.train(input_fn=train_input_fn, max_steps=2500)"
   ]
  },
  {
   "cell_type": "code",
   "execution_count": 6,
   "metadata": {},
   "outputs": [
    {
     "name": "stdout",
     "output_type": "stream",
     "text": [
      "INFO:tensorflow:Calling model_fn.\n",
      "INFO:tensorflow:Done calling model_fn.\n",
      "INFO:tensorflow:Starting evaluation at 2018-11-12-07:17:35\n",
      "INFO:tensorflow:Graph was finalized.\n",
      "INFO:tensorflow:Restoring parameters from ./output\\model.ckpt-2500\n",
      "INFO:tensorflow:Running local_init_op.\n",
      "INFO:tensorflow:Done running local_init_op.\n",
      "INFO:tensorflow:Finished evaluation at 2018-11-12-07:17:36\n",
      "INFO:tensorflow:Saving dict for global step 2500: average_loss = 0.000445738, global_step = 2500, label/mean = 11.5, loss = 0.001337214, prediction/mean = 11.479568\n",
      "INFO:tensorflow:Saving 'checkpoint_path' summary for global step 2500: ./output\\model.ckpt-2500\n",
      "Average loss in testing: 0.0004\n"
     ]
    }
   ],
   "source": [
    "average_loss = regressor.evaluate(input_fn=test_input_fn)[\"average_loss\"]\n",
    "print(f\"Average loss in testing: {average_loss:.4f}\")"
   ]
  },
  {
   "cell_type": "code",
   "execution_count": 7,
   "metadata": {},
   "outputs": [
    {
     "name": "stdout",
     "output_type": "stream",
     "text": [
      "INFO:tensorflow:Calling model_fn.\n",
      "INFO:tensorflow:Done calling model_fn.\n",
      "INFO:tensorflow:Graph was finalized.\n",
      "INFO:tensorflow:Restoring parameters from ./output\\model.ckpt-2500\n",
      "INFO:tensorflow:Running local_init_op.\n",
      "INFO:tensorflow:Done running local_init_op.\n"
     ]
    }
   ],
   "source": [
    "predictions = list(regressor.predict(input_fn=predict_input_fn))"
   ]
  },
  {
   "cell_type": "code",
   "execution_count": 8,
   "metadata": {},
   "outputs": [
    {
     "name": "stdout",
     "output_type": "stream",
     "text": [
      "8.0 -> 15.4665\n",
      "9.0 -> 17.4600\n"
     ]
    }
   ],
   "source": [
    "for input, p in zip(samples, predictions):\n",
    "    v  = p[\"predictions\"][0]\n",
    "    print(f\"{input} -> {v:.4f}\")"
   ]
  }
 ],
 "metadata": {
  "kernelspec": {
   "display_name": "Python 3",
   "language": "python",
   "name": "python3"
  },
  "language_info": {
   "codemirror_mode": {
    "name": "ipython",
    "version": 3
   },
   "file_extension": ".py",
   "mimetype": "text/x-python",
   "name": "python",
   "nbconvert_exporter": "python",
   "pygments_lexer": "ipython3",
   "version": "3.6.7"
  }
 },
 "nbformat": 4,
 "nbformat_minor": 2
}
