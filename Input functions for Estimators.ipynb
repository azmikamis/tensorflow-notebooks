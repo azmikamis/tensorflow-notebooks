{
 "cells": [
  {
   "cell_type": "code",
   "execution_count": 1,
   "metadata": {},
   "outputs": [],
   "source": [
    "import numpy as np\n",
    "import pandas as pd\n",
    "import tensorflow as tf"
   ]
  },
  {
   "cell_type": "code",
   "execution_count": 2,
   "metadata": {},
   "outputs": [
    {
     "data": {
      "text/plain": [
       "'1.12.0'"
      ]
     },
     "execution_count": 2,
     "metadata": {},
     "output_type": "execute_result"
    }
   ],
   "source": [
    "tf.__version__"
   ]
  },
  {
   "cell_type": "markdown",
   "metadata": {},
   "source": [
    "### numpy"
   ]
  },
  {
   "cell_type": "code",
   "execution_count": 3,
   "metadata": {},
   "outputs": [],
   "source": [
    "features = np.arange(0, 10)\n",
    "labels = np.arange(10, 20)"
   ]
  },
  {
   "cell_type": "code",
   "execution_count": 4,
   "metadata": {},
   "outputs": [],
   "source": [
    "input_fn = tf.estimator.inputs.numpy_input_fn(\n",
    "                x=features,\n",
    "                y=labels,\n",
    "                batch_size=2,\n",
    "                num_epochs=2,\n",
    "                shuffle=False)"
   ]
  },
  {
   "cell_type": "code",
   "execution_count": 16,
   "metadata": {},
   "outputs": [
    {
     "name": "stdout",
     "output_type": "stream",
     "text": [
      "({'features': array([0, 1])}, array([10, 11]))\n",
      "({'features': array([2, 3])}, array([12, 13]))\n",
      "({'features': array([4, 5])}, array([14, 15]))\n"
     ]
    }
   ],
   "source": [
    "features_op, labels_op = input_fn()\n",
    "with tf.Session() as sess:\n",
    "    sess.run(tf.global_variables_initializer())\n",
    "    coordinator = tf.train.Coordinator()\n",
    "    _ = tf.train.start_queue_runners(coord=coordinator)\n",
    "    for i in range(3):\n",
    "        print(sess.run((features_op, labels_op)))"
   ]
  },
  {
   "cell_type": "markdown",
   "metadata": {},
   "source": [
    "### pandas"
   ]
  },
  {
   "cell_type": "code",
   "execution_count": 6,
   "metadata": {},
   "outputs": [],
   "source": [
    "df = pd.DataFrame(\n",
    "    {'features': np.arange(0, 10),\n",
    "     'labels': np.arange(10, 20)}, )"
   ]
  },
  {
   "cell_type": "code",
   "execution_count": 7,
   "metadata": {},
   "outputs": [],
   "source": [
    "input_fn = tf.estimator.inputs.pandas_input_fn(\n",
    "                x=df[['features']],\n",
    "                y=df['labels'],\n",
    "                batch_size=2,\n",
    "                num_epochs=2,\n",
    "                shuffle=False)"
   ]
  },
  {
   "cell_type": "code",
   "execution_count": 17,
   "metadata": {},
   "outputs": [
    {
     "name": "stdout",
     "output_type": "stream",
     "text": [
      "({'features': array([0, 1])}, array([10, 11]))\n",
      "({'features': array([2, 3])}, array([12, 13]))\n",
      "({'features': array([4, 5])}, array([14, 15]))\n"
     ]
    }
   ],
   "source": [
    "features_op, labels_op = input_fn()\n",
    "with tf.Session() as sess:\n",
    "    sess.run(tf.global_variables_initializer())\n",
    "    coordinator = tf.train.Coordinator()\n",
    "    _ = tf.train.start_queue_runners(coord=coordinator)\n",
    "    for i in range(3):\n",
    "        print(sess.run((features_op, labels_op)))"
   ]
  },
  {
   "cell_type": "markdown",
   "metadata": {},
   "source": [
    "### tf.data tensor (combines the input and returns a dataset with a single element)"
   ]
  },
  {
   "cell_type": "code",
   "execution_count": 9,
   "metadata": {},
   "outputs": [],
   "source": [
    "features = tf.range(0, 10)\n",
    "labels = tf.range(10, 20)"
   ]
  },
  {
   "cell_type": "code",
   "execution_count": 10,
   "metadata": {},
   "outputs": [],
   "source": [
    "dataset = tf.data.Dataset.from_tensors((features, labels))\n",
    "dataset = dataset.repeat(2).batch(2)\n",
    "iterator = dataset.make_one_shot_iterator()\n",
    "next_element = iterator.get_next()"
   ]
  },
  {
   "cell_type": "code",
   "execution_count": 11,
   "metadata": {},
   "outputs": [
    {
     "name": "stdout",
     "output_type": "stream",
     "text": [
      "(array([[0, 1, 2, 3, 4, 5, 6, 7, 8, 9],\n",
      "       [0, 1, 2, 3, 4, 5, 6, 7, 8, 9]]), array([[10, 11, 12, 13, 14, 15, 16, 17, 18, 19],\n",
      "       [10, 11, 12, 13, 14, 15, 16, 17, 18, 19]]))\n"
     ]
    }
   ],
   "source": [
    "with tf.Session() as sess:\n",
    "    print(sess.run(next_element))"
   ]
  },
  {
   "cell_type": "markdown",
   "metadata": {},
   "source": [
    "### tf.data tensor_slices"
   ]
  },
  {
   "cell_type": "code",
   "execution_count": 12,
   "metadata": {},
   "outputs": [],
   "source": [
    "features = np.arange(0, 10)\n",
    "labels = np.arange(10, 20)"
   ]
  },
  {
   "cell_type": "code",
   "execution_count": 13,
   "metadata": {},
   "outputs": [],
   "source": [
    "dataset = tf.data.Dataset.from_tensor_slices(({'features': features}, labels))\n",
    "dataset = dataset.repeat(2).batch(2)\n",
    "iterator = dataset.make_one_shot_iterator()\n",
    "next_element = iterator.get_next()"
   ]
  },
  {
   "cell_type": "code",
   "execution_count": 14,
   "metadata": {},
   "outputs": [
    {
     "name": "stdout",
     "output_type": "stream",
     "text": [
      "({'features': array([0, 1])}, array([10, 11]))\n",
      "({'features': array([2, 3])}, array([12, 13]))\n",
      "({'features': array([4, 5])}, array([14, 15]))\n"
     ]
    }
   ],
   "source": [
    "with tf.Session() as sess:\n",
    "    for i in range(3):\n",
    "        print(sess.run(next_element))"
   ]
  },
  {
   "cell_type": "markdown",
   "metadata": {},
   "source": [
    "### tf.data TextLineDataset"
   ]
  },
  {
   "cell_type": "code",
   "execution_count": 15,
   "metadata": {},
   "outputs": [
    {
     "name": "stdout",
     "output_type": "stream",
     "text": [
      "({'features': array([0, 1])}, array([10, 11]))\n",
      "({'features': array([2, 3])}, array([12, 13]))\n",
      "({'features': array([4, 5])}, array([14, 15]))\n"
     ]
    }
   ],
   "source": [
    "def decode_csv(line):\n",
    "    parsed_line = tf.decode_csv(line, [[0], [0]])\n",
    "    label = parsed_line[-1:]  # Last element is the label\n",
    "    del parsed_line[-1]       # Delete last element\n",
    "    features = parsed_line\n",
    "    d = dict(zip([\"features\"], features))\n",
    "    return d, tf.squeeze(label) # estimator will run regardless squeeze or not\n",
    "    #return d, label\n",
    "dataset = tf.data.TextLineDataset('file.csv').map(decode_csv)\n",
    "dataset = dataset.repeat(2).batch(2)\n",
    "next_element = dataset.make_one_shot_iterator().get_next()\n",
    "\n",
    "with tf.Session() as sess:\n",
    "    for i in range(3):\n",
    "        print(sess.run(next_element))"
   ]
  }
 ],
 "metadata": {
  "kernelspec": {
   "display_name": "Python 3",
   "language": "python",
   "name": "python3"
  },
  "language_info": {
   "codemirror_mode": {
    "name": "ipython",
    "version": 3
   },
   "file_extension": ".py",
   "mimetype": "text/x-python",
   "name": "python",
   "nbconvert_exporter": "python",
   "pygments_lexer": "ipython3",
   "version": "3.6.7"
  }
 },
 "nbformat": 4,
 "nbformat_minor": 2
}
