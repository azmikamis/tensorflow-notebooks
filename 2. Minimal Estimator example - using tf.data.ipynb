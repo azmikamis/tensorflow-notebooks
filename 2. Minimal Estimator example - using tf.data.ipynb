{
 "cells": [
  {
   "cell_type": "code",
   "execution_count": 1,
   "metadata": {},
   "outputs": [],
   "source": [
    "import tensorflow as tf\n",
    "import numpy as np"
   ]
  },
  {
   "cell_type": "code",
   "execution_count": 2,
   "metadata": {},
   "outputs": [],
   "source": [
    "x_feature = tf.feature_column.numeric_column('f1')"
   ]
  },
  {
   "cell_type": "code",
   "execution_count": 3,
   "metadata": {},
   "outputs": [],
   "source": [
    "train_features = np.array([1., 2., 3., 4.])\n",
    "train_labels = np.array([1.5, 3.5, 5.5, 7.5])\n",
    "\n",
    "def train_input_fn():\n",
    "    dataset = tf.data.Dataset.from_tensor_slices(({\"f1\": train_features}, train_labels))\n",
    "    dataset = dataset.shuffle(1000).repeat().batch(2)\n",
    "    #return dataset.make_one_shot_iterator().get_next()\n",
    "    return dataset\n",
    "\n",
    "test_features = np.array([5., 6., 7.])\n",
    "test_labels = np.array([9.5, 11.5, 13.5])\n",
    "\n",
    "def test_input_fn():\n",
    "    dataset = tf.data.Dataset.from_tensor_slices(({\"f1\": test_features}, test_labels))\n",
    "    dataset = dataset.repeat(1).batch(len(test_features)) # batch cannot be none\n",
    "    return dataset\n",
    "\n",
    "samples = np.array([8., 9.])\n",
    "def predict_input_fn():\n",
    "    dataset = tf.data.Dataset.from_tensor_slices(({\"f1\": samples}))\n",
    "    dataset = dataset.repeat(1).batch(len(samples)) # batch cannot be none\n",
    "    return dataset"
   ]
  },
  {
   "cell_type": "code",
   "execution_count": 4,
   "metadata": {},
   "outputs": [
    {
     "name": "stdout",
     "output_type": "stream",
     "text": [
      "INFO:tensorflow:Using default config.\n",
      "INFO:tensorflow:Using config: {'_model_dir': './output', '_tf_random_seed': None, '_save_summary_steps': 100, '_save_checkpoints_steps': None, '_save_checkpoints_secs': 600, '_session_config': allow_soft_placement: true\n",
      "graph_options {\n",
      "  rewrite_options {\n",
      "    meta_optimizer_iterations: ONE\n",
      "  }\n",
      "}\n",
      ", '_keep_checkpoint_max': 5, '_keep_checkpoint_every_n_hours': 10000, '_log_step_count_steps': 100, '_train_distribute': None, '_device_fn': None, '_protocol': None, '_eval_distribute': None, '_experimental_distribute': None, '_service': None, '_cluster_spec': <tensorflow.python.training.server_lib.ClusterSpec object at 0x0000000004FA06A0>, '_task_type': 'worker', '_task_id': 0, '_global_id_in_cluster': 0, '_master': '', '_evaluation_master': '', '_is_chief': True, '_num_ps_replicas': 0, '_num_worker_replicas': 1}\n"
     ]
    }
   ],
   "source": [
    "regressor = tf.estimator.LinearRegressor(\n",
    "    feature_columns=[x_feature],\n",
    "    model_dir='./output'\n",
    ")"
   ]
  },
  {
   "cell_type": "code",
   "execution_count": 5,
   "metadata": {},
   "outputs": [
    {
     "name": "stdout",
     "output_type": "stream",
     "text": [
      "INFO:tensorflow:Calling model_fn.\n",
      "INFO:tensorflow:Done calling model_fn.\n",
      "INFO:tensorflow:Create CheckpointSaverHook.\n",
      "INFO:tensorflow:Graph was finalized.\n",
      "INFO:tensorflow:Running local_init_op.\n",
      "INFO:tensorflow:Done running local_init_op.\n",
      "INFO:tensorflow:Saving checkpoints for 0 into ./output\\model.ckpt.\n",
      "INFO:tensorflow:loss = 32.5, step = 1\n",
      "INFO:tensorflow:global_step/sec: 1052.63\n",
      "INFO:tensorflow:loss = 0.214375, step = 101 (0.096 sec)\n",
      "INFO:tensorflow:global_step/sec: 1351.35\n",
      "INFO:tensorflow:loss = 0.1400778, step = 201 (0.075 sec)\n",
      "INFO:tensorflow:global_step/sec: 1190.47\n",
      "INFO:tensorflow:loss = 0.16759762, step = 301 (0.083 sec)\n",
      "INFO:tensorflow:global_step/sec: 1190.48\n",
      "INFO:tensorflow:loss = 0.16801906, step = 401 (0.085 sec)\n",
      "INFO:tensorflow:global_step/sec: 1204.82\n",
      "INFO:tensorflow:loss = 0.25878322, step = 501 (0.082 sec)\n",
      "INFO:tensorflow:global_step/sec: 1190.48\n",
      "INFO:tensorflow:loss = 0.027490944, step = 601 (0.084 sec)\n",
      "INFO:tensorflow:global_step/sec: 1075.27\n",
      "INFO:tensorflow:loss = 0.050006136, step = 701 (0.094 sec)\n",
      "INFO:tensorflow:global_step/sec: 1204.82\n",
      "INFO:tensorflow:loss = 0.07787131, step = 801 (0.083 sec)\n",
      "INFO:tensorflow:global_step/sec: 1204.82\n",
      "INFO:tensorflow:loss = 0.02244525, step = 901 (0.082 sec)\n",
      "INFO:tensorflow:global_step/sec: 1204.82\n",
      "INFO:tensorflow:loss = 0.03519047, step = 1001 (0.084 sec)\n",
      "INFO:tensorflow:global_step/sec: 1136.36\n",
      "INFO:tensorflow:loss = 0.020744767, step = 1101 (0.088 sec)\n",
      "INFO:tensorflow:global_step/sec: 1315.79\n",
      "INFO:tensorflow:loss = 0.01156098, step = 1201 (0.076 sec)\n",
      "INFO:tensorflow:global_step/sec: 1149.43\n",
      "INFO:tensorflow:loss = 0.0016888162, step = 1301 (0.087 sec)\n",
      "INFO:tensorflow:global_step/sec: 1136.36\n",
      "INFO:tensorflow:loss = 0.006309862, step = 1401 (0.087 sec)\n",
      "INFO:tensorflow:global_step/sec: 1123.59\n",
      "INFO:tensorflow:loss = 0.0048320536, step = 1501 (0.093 sec)\n",
      "INFO:tensorflow:global_step/sec: 1111.11\n",
      "INFO:tensorflow:loss = 0.0009036875, step = 1601 (0.087 sec)\n",
      "INFO:tensorflow:global_step/sec: 1428.57\n",
      "INFO:tensorflow:loss = 0.0021848725, step = 1701 (0.069 sec)\n",
      "INFO:tensorflow:global_step/sec: 1204.82\n",
      "INFO:tensorflow:loss = 0.00063280284, step = 1801 (0.084 sec)\n",
      "INFO:tensorflow:global_step/sec: 1162.79\n",
      "INFO:tensorflow:loss = 0.000992266, step = 1901 (0.085 sec)\n",
      "INFO:tensorflow:global_step/sec: 990.101\n",
      "INFO:tensorflow:loss = 0.00018467972, step = 2001 (0.101 sec)\n",
      "INFO:tensorflow:global_step/sec: 1176.47\n",
      "INFO:tensorflow:loss = 0.00012581279, step = 2101 (0.086 sec)\n",
      "INFO:tensorflow:global_step/sec: 1204.82\n",
      "INFO:tensorflow:loss = 0.00021988573, step = 2201 (0.082 sec)\n",
      "INFO:tensorflow:global_step/sec: 1204.82\n",
      "INFO:tensorflow:loss = 0.00017881367, step = 2301 (0.084 sec)\n",
      "INFO:tensorflow:global_step/sec: 1162.79\n",
      "INFO:tensorflow:loss = 5.8294543e-05, step = 2401 (0.086 sec)\n",
      "INFO:tensorflow:Saving checkpoints for 2500 into ./output\\model.ckpt.\n",
      "INFO:tensorflow:Loss for final step: 2.884709e-05.\n"
     ]
    },
    {
     "data": {
      "text/plain": [
       "<tensorflow.python.estimator.canned.linear.LinearRegressor at 0xc458d30>"
      ]
     },
     "execution_count": 5,
     "metadata": {},
     "output_type": "execute_result"
    }
   ],
   "source": [
    "regressor.train(input_fn=train_input_fn, steps=2500) # incremental\n",
    "#regressor.train(input_fn=train_input_fn, max_steps=2500)"
   ]
  },
  {
   "cell_type": "code",
   "execution_count": 6,
   "metadata": {},
   "outputs": [
    {
     "name": "stdout",
     "output_type": "stream",
     "text": [
      "INFO:tensorflow:Calling model_fn.\n",
      "INFO:tensorflow:Done calling model_fn.\n",
      "INFO:tensorflow:Starting evaluation at 2018-11-12-07:14:06\n",
      "INFO:tensorflow:Graph was finalized.\n",
      "INFO:tensorflow:Restoring parameters from ./output\\model.ckpt-2500\n",
      "INFO:tensorflow:Running local_init_op.\n",
      "INFO:tensorflow:Done running local_init_op.\n",
      "INFO:tensorflow:Finished evaluation at 2018-11-12-07:14:06\n",
      "INFO:tensorflow:Saving dict for global step 2500: average_loss = 0.00020292633, global_step = 2500, label/mean = 11.5, loss = 0.00060877897, prediction/mean = 11.486214\n",
      "INFO:tensorflow:Saving 'checkpoint_path' summary for global step 2500: ./output\\model.ckpt-2500\n",
      "Average loss in testing: 0.0002\n"
     ]
    }
   ],
   "source": [
    "average_loss = regressor.evaluate(input_fn=test_input_fn)[\"average_loss\"]\n",
    "print(f\"Average loss in testing: {average_loss:.4f}\")"
   ]
  },
  {
   "cell_type": "code",
   "execution_count": 7,
   "metadata": {},
   "outputs": [
    {
     "name": "stdout",
     "output_type": "stream",
     "text": [
      "INFO:tensorflow:Calling model_fn.\n",
      "INFO:tensorflow:Done calling model_fn.\n",
      "INFO:tensorflow:Graph was finalized.\n",
      "INFO:tensorflow:Restoring parameters from ./output\\model.ckpt-2500\n",
      "INFO:tensorflow:Running local_init_op.\n",
      "INFO:tensorflow:Done running local_init_op.\n"
     ]
    }
   ],
   "source": [
    "predictions = list(regressor.predict(input_fn=predict_input_fn))"
   ]
  },
  {
   "cell_type": "code",
   "execution_count": 8,
   "metadata": {},
   "outputs": [
    {
     "name": "stdout",
     "output_type": "stream",
     "text": [
      "8.0 -> 15.4774\n",
      "9.0 -> 17.4730\n"
     ]
    }
   ],
   "source": [
    "for input, p in zip(samples, predictions):\n",
    "    v  = p[\"predictions\"][0]\n",
    "    print(f\"{input} -> {v:.4f}\")"
   ]
  }
 ],
 "metadata": {
  "kernelspec": {
   "display_name": "Python 3",
   "language": "python",
   "name": "python3"
  },
  "language_info": {
   "codemirror_mode": {
    "name": "ipython",
    "version": 3
   },
   "file_extension": ".py",
   "mimetype": "text/x-python",
   "name": "python",
   "nbconvert_exporter": "python",
   "pygments_lexer": "ipython3",
   "version": "3.6.7"
  }
 },
 "nbformat": 4,
 "nbformat_minor": 2
}
