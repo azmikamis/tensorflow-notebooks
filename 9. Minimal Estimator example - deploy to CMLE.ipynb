{
 "cells": [
  {
   "cell_type": "code",
   "execution_count": 3,
   "metadata": {},
   "outputs": [
    {
     "name": "stdout",
     "output_type": "stream",
     "text": [
      "Job [linear_estimator_1542032819] submitted successfully.\r\n",
      "Your job is still active. You may view the status of your job with the command\r\n",
      "\r\n",
      "  $ gcloud ml-engine jobs describe linear_estimator_1542032819\r\n",
      "\r\n",
      "or continue streaming the logs with the command\r\n",
      "\r\n",
      "  $ gcloud ml-engine jobs stream-logs linear_estimator_1542032819\r\n",
      "jobId: linear_estimator_1542032819\r\n",
      "state: QUEUED\r\n"
     ]
    }
   ],
   "source": [
    "!gcloud ml-engine jobs submit training linear_estimator_`date +%s` \\\n",
    "--staging-bucket gs://linear-estimator/ \\\n",
    "--module-name trainer.task \\\n",
    "--package-path trainer \\\n",
    "--region us-central1 \\\n",
    "--runtime-version 1.8 \\\n",
    "--python-version 2.7"
   ]
  },
  {
   "cell_type": "code",
   "execution_count": 4,
   "metadata": {},
   "outputs": [
    {
     "name": "stdout",
     "output_type": "stream",
     "text": [
      "\u001b[1;33mWARNING:\u001b[0m `--regions` flag will soon be required. Please explicitly specify a region. Using [us-central1] by default.\n",
      "Created ml engine model [projects/devlabs-208303/models/linear_estimator].\n"
     ]
    }
   ],
   "source": [
    "!gcloud ml-engine models create linear_estimator"
   ]
  },
  {
   "cell_type": "code",
   "execution_count": 7,
   "metadata": {},
   "outputs": [
    {
     "name": "stdout",
     "output_type": "stream",
     "text": [
      "Creating version (this might take a few minutes)......done.                     \n"
     ]
    }
   ],
   "source": [
    "!gcloud ml-engine versions create v1 \\\n",
    "--model linear_estimator \\\n",
    "--origin gs://linear-estimator/train/export/linear/1542032923 \\\n",
    "--runtime-version=1.8"
   ]
  },
  {
   "cell_type": "code",
   "execution_count": 9,
   "metadata": {},
   "outputs": [
    {
     "name": "stdout",
     "output_type": "stream",
     "text": [
      "{u'predictions': [{u'predictions': [15.46474552154541]}, {u'predictions': [17.457897186279297]}]}\n"
     ]
    }
   ],
   "source": [
    "from googleapiclient.discovery import build\n",
    "from oauth2client.client import GoogleCredentials\n",
    "from datetime import datetime\n",
    "import numpy as np\n",
    "\n",
    "samples = np.array([8., 9.])\n",
    "\n",
    "credentials = GoogleCredentials.get_application_default()\n",
    "service = build('ml', 'v1', credentials=credentials)\n",
    "request = service.projects().predict(\n",
    "              name='projects/devlabs-208303/models/linear_estimator/versions/v1',\n",
    "              body={\"instances\": samples.tolist()\n",
    "                   })\n",
    "response = request.execute()\n",
    "print(response)"
   ]
  },
  {
   "cell_type": "code",
   "execution_count": 10,
   "metadata": {},
   "outputs": [],
   "source": [
    "predictions = response['predictions']"
   ]
  },
  {
   "cell_type": "code",
   "execution_count": 15,
   "metadata": {},
   "outputs": [
    {
     "name": "stdout",
     "output_type": "stream",
     "text": [
      "8.0 -> 15.4647\n",
      "9.0 -> 17.4579\n"
     ]
    }
   ],
   "source": [
    "for input, p in zip(samples, predictions):\n",
    "    v  = p[\"predictions\"][0]\n",
    "    print(\"{0} -> {1:.4f}\".format(input, v))"
   ]
  },
  {
   "cell_type": "code",
   "execution_count": 16,
   "metadata": {},
   "outputs": [
    {
     "name": "stdout",
     "output_type": "stream",
     "text": [
      "PREDICTIONS\r\n",
      "[15.46474552154541]\r\n",
      "[17.457897186279297]\r\n"
     ]
    }
   ],
   "source": [
    "!gcloud ml-engine predict \\\n",
    "--model=linear_estimator --version=v1 \\\n",
    "--json-instances=./f1.json"
   ]
  },
  {
   "cell_type": "code",
   "execution_count": 18,
   "metadata": {},
   "outputs": [
    {
     "name": "stdout",
     "output_type": "stream",
     "text": [
      "Job [linear_estimator_pred_1542035187] submitted successfully.\n",
      "Your job is still active. You may view the status of your job with the command\n",
      "\n",
      "  $ gcloud ml-engine jobs describe linear_estimator_pred_1542035187\n",
      "\n",
      "or continue streaming the logs with the command\n",
      "\n",
      "  $ gcloud ml-engine jobs stream-logs linear_estimator_pred_1542035187\n",
      "jobId: linear_estimator_pred_1542035187\n",
      "state: QUEUED\n"
     ]
    }
   ],
   "source": [
    "!gcloud ml-engine jobs submit prediction linear_estimator_pred_`date +%s` \\\n",
    "--region us-central1 \\\n",
    "--data-format=TEXT \\\n",
    "--input-paths=gs://linear-estimator/batchpred/f1.json \\\n",
    "--output-path=gs://linear-estimator/batchpred/outputs \\\n",
    "--model=linear_estimator --version=v1"
   ]
  },
  {
   "cell_type": "code",
   "execution_count": null,
   "metadata": {},
   "outputs": [],
   "source": []
  }
 ],
 "metadata": {
  "kernelspec": {
   "display_name": "Python 2",
   "language": "python",
   "name": "python2"
  },
  "language_info": {
   "codemirror_mode": {
    "name": "ipython",
    "version": 2
   },
   "file_extension": ".py",
   "mimetype": "text/x-python",
   "name": "python",
   "nbconvert_exporter": "python",
   "pygments_lexer": "ipython2",
   "version": "2.7.15"
  }
 },
 "nbformat": 4,
 "nbformat_minor": 2
}
