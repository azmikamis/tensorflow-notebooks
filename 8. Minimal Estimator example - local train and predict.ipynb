{
 "cells": [
  {
   "cell_type": "code",
   "execution_count": 8,
   "metadata": {},
   "outputs": [
    {
     "name": "stdout",
     "output_type": "stream",
     "text": [
      "/usr/local/envs/py2env/lib/python2.7/site-packages/h5py/__init__.py:36: FutureWarning: Conversion of the second argument of issubdtype from `float` to `np.floating` is deprecated. In future, it will be treated as `np.float64 == np.dtype(float).type`.\n",
      "  from ._conv import register_converters as _register_converters\n",
      "INFO:tensorflow:TF_CONFIG environment variable: {u'environment': u'cloud', u'cluster': {}, u'job': {u'args': [], u'job_name': u'trainer.task'}, u'task': {}}\n",
      "INFO:tensorflow:Using config: {'_save_checkpoints_secs': 600, '_session_config': None, '_keep_checkpoint_max': 5, '_tf_random_seed': None, '_task_type': 'worker', '_train_distribute': None, '_is_chief': True, '_cluster_spec': <tensorflow.python.training.server_lib.ClusterSpec object at 0x7f0323a6f610>, '_model_dir': 'output', '_num_worker_replicas': 1, '_task_id': 0, '_log_step_count_steps': 100, '_master': '', '_save_checkpoints_steps': None, '_keep_checkpoint_every_n_hours': 10000, '_evaluation_master': '', '_service': None, '_global_id_in_cluster': 0, '_save_summary_steps': 100, '_num_ps_replicas': 0}\n",
      "INFO:tensorflow:Running training and evaluation locally (non-distributed).\n",
      "INFO:tensorflow:Start train and evaluate loop. The evaluate will happen after 600 secs (eval_spec.throttle_secs) or training is finished.\n",
      "INFO:tensorflow:Calling model_fn.\n",
      "DEBUG:tensorflow:Transforming feature_column _NumericColumn(key='f1', shape=(1,), default_value=None, dtype=tf.float32, normalizer_fn=None).\n",
      "INFO:tensorflow:Done calling model_fn.\n",
      "INFO:tensorflow:Create CheckpointSaverHook.\n",
      "INFO:tensorflow:Graph was finalized.\n",
      "INFO:tensorflow:Running local_init_op.\n",
      "INFO:tensorflow:Done running local_init_op.\n",
      "INFO:tensorflow:Saving checkpoints for 1 into output/model.ckpt.\n",
      "INFO:tensorflow:loss = 32.5, step = 1\n",
      "INFO:tensorflow:global_step/sec: 1016.44\n",
      "INFO:tensorflow:loss = 1.1918607, step = 101 (0.099 sec)\n",
      "INFO:tensorflow:global_step/sec: 1502.79\n",
      "INFO:tensorflow:loss = 0.25341192, step = 201 (0.067 sec)\n",
      "INFO:tensorflow:global_step/sec: 1596.27\n",
      "INFO:tensorflow:loss = 0.5945871, step = 301 (0.063 sec)\n",
      "INFO:tensorflow:global_step/sec: 1568.56\n",
      "INFO:tensorflow:loss = 0.34812897, step = 401 (0.064 sec)\n",
      "INFO:tensorflow:global_step/sec: 1600.95\n",
      "INFO:tensorflow:loss = 0.26463285, step = 501 (0.062 sec)\n",
      "INFO:tensorflow:global_step/sec: 1583.83\n",
      "INFO:tensorflow:loss = 0.15687294, step = 601 (0.063 sec)\n",
      "INFO:tensorflow:global_step/sec: 1611.11\n",
      "INFO:tensorflow:loss = 0.08716894, step = 701 (0.062 sec)\n",
      "INFO:tensorflow:global_step/sec: 1609.58\n",
      "INFO:tensorflow:loss = 0.034720764, step = 801 (0.062 sec)\n",
      "INFO:tensorflow:global_step/sec: 1602.26\n",
      "INFO:tensorflow:loss = 0.023497518, step = 901 (0.062 sec)\n",
      "INFO:tensorflow:global_step/sec: 1622.5\n",
      "INFO:tensorflow:loss = 0.010158262, step = 1001 (0.062 sec)\n",
      "INFO:tensorflow:global_step/sec: 1474.54\n",
      "INFO:tensorflow:loss = 0.02191678, step = 1101 (0.068 sec)\n",
      "INFO:tensorflow:global_step/sec: 1587.33\n",
      "INFO:tensorflow:loss = 0.01686834, step = 1201 (0.063 sec)\n",
      "INFO:tensorflow:global_step/sec: 1646.52\n",
      "INFO:tensorflow:loss = 0.008300907, step = 1301 (0.061 sec)\n",
      "INFO:tensorflow:global_step/sec: 1649.59\n",
      "INFO:tensorflow:loss = 0.0012242447, step = 1401 (0.061 sec)\n",
      "INFO:tensorflow:global_step/sec: 1638.03\n",
      "INFO:tensorflow:loss = 0.005218723, step = 1501 (0.061 sec)\n",
      "INFO:tensorflow:global_step/sec: 1597.4\n",
      "INFO:tensorflow:loss = 0.003531456, step = 1601 (0.063 sec)\n",
      "INFO:tensorflow:global_step/sec: 1657.11\n",
      "INFO:tensorflow:loss = 0.0010249628, step = 1701 (0.060 sec)\n",
      "INFO:tensorflow:global_step/sec: 1644.95\n",
      "INFO:tensorflow:loss = 0.0016152621, step = 1801 (0.061 sec)\n",
      "INFO:tensorflow:global_step/sec: 1650.55\n",
      "INFO:tensorflow:loss = 0.0003012321, step = 1901 (0.061 sec)\n",
      "INFO:tensorflow:global_step/sec: 1572.3\n",
      "INFO:tensorflow:loss = 0.0007400914, step = 2001 (0.064 sec)\n",
      "INFO:tensorflow:global_step/sec: 1632.63\n",
      "INFO:tensorflow:loss = 0.0004396379, step = 2101 (0.061 sec)\n",
      "INFO:tensorflow:global_step/sec: 1424.64\n",
      "INFO:tensorflow:loss = 9.520402e-05, step = 2201 (0.070 sec)\n",
      "INFO:tensorflow:global_step/sec: 1626.12\n",
      "INFO:tensorflow:loss = 3.649606e-05, step = 2301 (0.062 sec)\n",
      "INFO:tensorflow:global_step/sec: 1614.6\n",
      "INFO:tensorflow:loss = 6.6907756e-05, step = 2401 (0.062 sec)\n",
      "INFO:tensorflow:Saving checkpoints for 2500 into output/model.ckpt.\n",
      "INFO:tensorflow:Loss for final step: 1.7059101e-05.\n",
      "INFO:tensorflow:Calling model_fn.\n",
      "DEBUG:tensorflow:Transforming feature_column _NumericColumn(key='f1', shape=(1,), default_value=None, dtype=tf.float32, normalizer_fn=None).\n",
      "INFO:tensorflow:Done calling model_fn.\n",
      "INFO:tensorflow:Starting evaluation at 2018-11-12-14:04:23\n",
      "INFO:tensorflow:Graph was finalized.\n",
      "INFO:tensorflow:Restoring parameters from output/model.ckpt-2500\n",
      "INFO:tensorflow:Running local_init_op.\n",
      "INFO:tensorflow:Done running local_init_op.\n",
      "INFO:tensorflow:Evaluation [1/1]\n",
      "INFO:tensorflow:Finished evaluation at 2018-11-12-14:04:24\n",
      "INFO:tensorflow:Saving dict for global step 2500: average_loss = 0.00023267123, global_step = 2500, loss = 0.0006980137\n",
      "INFO:tensorflow:Performing the final export in the end of training.\n",
      "INFO:tensorflow:Calling model_fn.\n",
      "DEBUG:tensorflow:Transforming feature_column _NumericColumn(key='f1', shape=(1,), default_value=None, dtype=tf.float32, normalizer_fn=None).\n",
      "INFO:tensorflow:Done calling model_fn.\n",
      "INFO:tensorflow:Signatures INCLUDED in export for Classify: None\n",
      "INFO:tensorflow:Signatures INCLUDED in export for Regress: None\n",
      "INFO:tensorflow:Signatures INCLUDED in export for Predict: ['predict']\n",
      "INFO:tensorflow:Signatures EXCLUDED from export because they cannot be be served via TensorFlow Serving APIs:\n",
      "INFO:tensorflow:'serving_default' : Regression input must be a single string Tensor; got {'f1': <tf.Tensor 'Placeholder:0' shape=(?, 1) dtype=float32>}\n",
      "INFO:tensorflow:'regression' : Regression input must be a single string Tensor; got {'f1': <tf.Tensor 'Placeholder:0' shape=(?, 1) dtype=float32>}\n",
      "WARNING:tensorflow:Export includes no default signature!\n",
      "INFO:tensorflow:Restoring parameters from output/model.ckpt-2500\n",
      "INFO:tensorflow:Assets added to graph.\n",
      "INFO:tensorflow:No assets to write.\n",
      "INFO:tensorflow:SavedModel written to: output/export/linear/temp-1542031464/saved_model.pb\n",
      "DEBUG:tensorflow:Calling exporter with the `is_the_final_export=True`.\n"
     ]
    }
   ],
   "source": [
    "!gcloud ml-engine local train \\\n",
    "--module-name trainer.task \\\n",
    "--package-path trainer"
   ]
  },
  {
   "cell_type": "code",
   "execution_count": 10,
   "metadata": {},
   "outputs": [
    {
     "name": "stdout",
     "output_type": "stream",
     "text": [
      "\u001b[1;33mWARNING:\u001b[0m /usr/local/envs/py2env/lib/python2.7/site-packages/h5py/__init__.py:36: FutureWarning: Conversion of the second argument of issubdtype from `float` to `np.floating` is deprecated. In future, it will be treated as `np.float64 == np.dtype(float).type`.\r\n",
      "  from ._conv import register_converters as _register_converters\r\n",
      "\r\n",
      "PREDICTIONS\r\n",
      "[15.475841522216797]\r\n",
      "[17.471145629882812]\r\n"
     ]
    }
   ],
   "source": [
    "!gcloud ml-engine local predict \\\n",
    "--model-dir=./output/export/linear/1542031464/ \\\n",
    "--json-instances=./f1.json"
   ]
  }
 ],
 "metadata": {
  "kernelspec": {
   "display_name": "Python 2",
   "language": "python",
   "name": "python2"
  },
  "language_info": {
   "codemirror_mode": {
    "name": "ipython",
    "version": 2
   },
   "file_extension": ".py",
   "mimetype": "text/x-python",
   "name": "python",
   "nbconvert_exporter": "python",
   "pygments_lexer": "ipython2",
   "version": "2.7.15"
  }
 },
 "nbformat": 4,
 "nbformat_minor": 2
}
