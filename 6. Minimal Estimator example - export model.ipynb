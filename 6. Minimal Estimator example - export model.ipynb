{
 "cells": [
  {
   "cell_type": "code",
   "execution_count": 1,
   "metadata": {},
   "outputs": [],
   "source": [
    "import tensorflow as tf\n",
    "import numpy as np"
   ]
  },
  {
   "cell_type": "code",
   "execution_count": 2,
   "metadata": {},
   "outputs": [],
   "source": [
    "x_feature = tf.feature_column.numeric_column('f1')"
   ]
  },
  {
   "cell_type": "code",
   "execution_count": 3,
   "metadata": {},
   "outputs": [],
   "source": [
    "train_features = np.array([1., 2., 3., 4.])\n",
    "train_labels = np.array([1.5, 3.5, 5.5, 7.5])\n",
    "\n",
    "def train_input_fn():\n",
    "    def decode_csv(line):\n",
    "        parsed_line = tf.decode_csv(line, [[0.], [0.]])\n",
    "        label = parsed_line[-1:]  # Last element is the label\n",
    "        del parsed_line[-1]       # Delete last element\n",
    "        features = parsed_line\n",
    "        d = dict(zip([\"f1\"], features))\n",
    "        return d, tf.squeeze(label)\n",
    "    dataset = tf.data.TextLineDataset('train.csv').map(decode_csv)\n",
    "    dataset = dataset.shuffle(1000).repeat().batch(2)\n",
    "    #return dataset.make_one_shot_iterator().get_next()\n",
    "    return dataset\n",
    "\n",
    "test_features = np.array([5., 6., 7.])\n",
    "test_labels = np.array([9.5, 11.5, 13.5])\n",
    "\n",
    "def test_input_fn():\n",
    "    dataset = tf.data.Dataset.from_tensor_slices(({\"f1\": test_features}, test_labels))\n",
    "    dataset = dataset.repeat(1).batch(len(test_features)) # batch cannot be none\n",
    "    return dataset\n",
    "\n",
    "samples = np.array([8., 9.])\n",
    "def predict_input_fn():\n",
    "    dataset = tf.data.Dataset.from_tensor_slices(({\"f1\": samples}))\n",
    "    dataset = dataset.repeat(1).batch(len(samples)) # batch cannot be none\n",
    "    return dataset"
   ]
  },
  {
   "cell_type": "code",
   "execution_count": 4,
   "metadata": {},
   "outputs": [
    {
     "name": "stdout",
     "output_type": "stream",
     "text": [
      "INFO:tensorflow:Using config: {'_model_dir': 'output', '_tf_random_seed': None, '_save_summary_steps': 100, '_save_checkpoints_steps': None, '_save_checkpoints_secs': 600, '_session_config': allow_soft_placement: true\n",
      "graph_options {\n",
      "  rewrite_options {\n",
      "    meta_optimizer_iterations: ONE\n",
      "  }\n",
      "}\n",
      ", '_keep_checkpoint_max': 5, '_keep_checkpoint_every_n_hours': 10000, '_log_step_count_steps': 100, '_train_distribute': None, '_device_fn': None, '_protocol': None, '_eval_distribute': None, '_experimental_distribute': None, '_service': None, '_cluster_spec': <tensorflow.python.training.server_lib.ClusterSpec object at 0x000000000C45BEB8>, '_task_type': 'worker', '_task_id': 0, '_global_id_in_cluster': 0, '_master': '', '_evaluation_master': '', '_is_chief': True, '_num_ps_replicas': 0, '_num_worker_replicas': 1}\n"
     ]
    }
   ],
   "source": [
    "run_config = tf.estimator.RunConfig(\n",
    "    model_dir='output'\n",
    ")\n",
    "regressor = tf.estimator.LinearRegressor(\n",
    "    feature_columns=[x_feature],\n",
    "    config = run_config\n",
    ")"
   ]
  },
  {
   "cell_type": "code",
   "execution_count": 5,
   "metadata": {},
   "outputs": [],
   "source": [
    "def serving_input_fn():\n",
    "    inputs = {}\n",
    "    inputs['f1'] = tf.placeholder(shape=[None,1], dtype=tf.int32)\n",
    "    return tf.estimator.export.ServingInputReceiver(inputs, inputs)\n",
    "\n",
    "exporter = tf.estimator.FinalExporter('linear', serving_input_fn)"
   ]
  },
  {
   "cell_type": "code",
   "execution_count": 6,
   "metadata": {},
   "outputs": [
    {
     "name": "stdout",
     "output_type": "stream",
     "text": [
      "INFO:tensorflow:Not using Distribute Coordinator.\n",
      "INFO:tensorflow:Running training and evaluation locally (non-distributed).\n",
      "INFO:tensorflow:Start train and evaluate loop. The evaluate will happen after every checkpoint. Checkpoint frequency is determined based on RunConfig arguments: save_checkpoints_steps None or save_checkpoints_secs 600.\n",
      "INFO:tensorflow:Calling model_fn.\n",
      "INFO:tensorflow:Done calling model_fn.\n",
      "INFO:tensorflow:Create CheckpointSaverHook.\n",
      "INFO:tensorflow:Graph was finalized.\n",
      "INFO:tensorflow:Running local_init_op.\n",
      "INFO:tensorflow:Done running local_init_op.\n",
      "INFO:tensorflow:Saving checkpoints for 0 into output\\model.ckpt.\n",
      "INFO:tensorflow:loss = 68.5, step = 1\n",
      "INFO:tensorflow:global_step/sec: 781.25\n",
      "INFO:tensorflow:loss = 0.6663682, step = 101 (0.129 sec)\n",
      "INFO:tensorflow:global_step/sec: 943.395\n",
      "INFO:tensorflow:loss = 0.28996938, step = 201 (0.107 sec)\n",
      "INFO:tensorflow:global_step/sec: 854.702\n",
      "INFO:tensorflow:loss = 0.6131248, step = 301 (0.117 sec)\n",
      "INFO:tensorflow:global_step/sec: 847.457\n",
      "INFO:tensorflow:loss = 0.20861301, step = 401 (0.118 sec)\n",
      "INFO:tensorflow:global_step/sec: 884.955\n",
      "INFO:tensorflow:loss = 0.05398715, step = 501 (0.113 sec)\n",
      "INFO:tensorflow:global_step/sec: 869.567\n",
      "INFO:tensorflow:loss = 0.06689287, step = 601 (0.114 sec)\n",
      "INFO:tensorflow:global_step/sec: 854.7\n",
      "INFO:tensorflow:loss = 0.12135645, step = 701 (0.118 sec)\n",
      "INFO:tensorflow:global_step/sec: 862.068\n",
      "INFO:tensorflow:loss = 0.11700118, step = 801 (0.116 sec)\n",
      "INFO:tensorflow:global_step/sec: 900.902\n",
      "INFO:tensorflow:loss = 0.023082862, step = 901 (0.110 sec)\n",
      "INFO:tensorflow:global_step/sec: 869.565\n",
      "INFO:tensorflow:loss = 0.05806365, step = 1001 (0.115 sec)\n",
      "INFO:tensorflow:global_step/sec: 833.334\n",
      "INFO:tensorflow:loss = 0.029856758, step = 1101 (0.120 sec)\n",
      "INFO:tensorflow:global_step/sec: 862.068\n",
      "INFO:tensorflow:loss = 0.021060957, step = 1201 (0.116 sec)\n",
      "INFO:tensorflow:global_step/sec: 1030.93\n",
      "INFO:tensorflow:loss = 0.014883615, step = 1301 (0.098 sec)\n",
      "INFO:tensorflow:global_step/sec: 680.272\n",
      "INFO:tensorflow:loss = 0.0061714146, step = 1401 (0.146 sec)\n",
      "INFO:tensorflow:global_step/sec: 961.54\n",
      "INFO:tensorflow:loss = 0.0043552304, step = 1501 (0.104 sec)\n",
      "INFO:tensorflow:global_step/sec: 862.068\n",
      "INFO:tensorflow:loss = 0.0030784458, step = 1601 (0.117 sec)\n",
      "INFO:tensorflow:global_step/sec: 847.457\n",
      "INFO:tensorflow:loss = 0.0014162397, step = 1701 (0.118 sec)\n",
      "INFO:tensorflow:global_step/sec: 877.194\n",
      "INFO:tensorflow:loss = 0.0025976435, step = 1801 (0.114 sec)\n",
      "INFO:tensorflow:global_step/sec: 806.451\n",
      "INFO:tensorflow:loss = 0.0003990716, step = 1901 (0.123 sec)\n",
      "INFO:tensorflow:global_step/sec: 740.741\n",
      "INFO:tensorflow:loss = 0.0012952017, step = 2001 (0.135 sec)\n",
      "INFO:tensorflow:global_step/sec: 990.098\n",
      "INFO:tensorflow:loss = 0.0003474863, step = 2101 (0.100 sec)\n",
      "INFO:tensorflow:global_step/sec: 869.565\n",
      "INFO:tensorflow:loss = 0.00088511605, step = 2201 (0.117 sec)\n",
      "INFO:tensorflow:global_step/sec: 854.702\n",
      "INFO:tensorflow:loss = 0.00045622946, step = 2301 (0.116 sec)\n",
      "INFO:tensorflow:global_step/sec: 869.565\n",
      "INFO:tensorflow:loss = 6.942329e-05, step = 2401 (0.115 sec)\n",
      "INFO:tensorflow:Saving checkpoints for 2500 into output\\model.ckpt.\n",
      "INFO:tensorflow:Calling model_fn.\n",
      "INFO:tensorflow:Done calling model_fn.\n",
      "INFO:tensorflow:Starting evaluation at 2018-11-12-08:36:19\n",
      "INFO:tensorflow:Graph was finalized.\n",
      "INFO:tensorflow:Restoring parameters from output\\model.ckpt-2500\n",
      "INFO:tensorflow:Running local_init_op.\n",
      "INFO:tensorflow:Done running local_init_op.\n",
      "INFO:tensorflow:Evaluation [1/1]\n",
      "INFO:tensorflow:Finished evaluation at 2018-11-12-08:36:19\n",
      "INFO:tensorflow:Saving dict for global step 2500: average_loss = 0.0006902547, global_step = 2500, label/mean = 11.5, loss = 0.002070764, prediction/mean = 11.474571\n",
      "INFO:tensorflow:Saving 'checkpoint_path' summary for global step 2500: output\\model.ckpt-2500\n",
      "INFO:tensorflow:Performing the final export in the end of training.\n",
      "INFO:tensorflow:Calling model_fn.\n",
      "INFO:tensorflow:Done calling model_fn.\n",
      "INFO:tensorflow:Signatures INCLUDED in export for Classify: None\n",
      "INFO:tensorflow:Signatures INCLUDED in export for Regress: None\n",
      "INFO:tensorflow:Signatures INCLUDED in export for Predict: ['predict']\n",
      "INFO:tensorflow:Signatures INCLUDED in export for Train: None\n",
      "INFO:tensorflow:Signatures INCLUDED in export for Eval: None\n",
      "INFO:tensorflow:Signatures EXCLUDED from export because they cannot be be served via TensorFlow Serving APIs:\n",
      "INFO:tensorflow:'serving_default' : Regression input must be a single string Tensor; got {'f1': <tf.Tensor 'Placeholder:0' shape=(?, 1) dtype=int32>}\n",
      "INFO:tensorflow:'regression' : Regression input must be a single string Tensor; got {'f1': <tf.Tensor 'Placeholder:0' shape=(?, 1) dtype=int32>}\n",
      "WARNING:tensorflow:Export includes no default signature!\n",
      "INFO:tensorflow:Restoring parameters from output\\model.ckpt-2500\n",
      "WARNING:tensorflow:From d:\\users\\azmi.kamis\\appdata\\local\\continuum\\anaconda3\\envs\\dl\\lib\\site-packages\\tensorflow\\python\\estimator\\estimator.py:1044: calling SavedModelBuilder.add_meta_graph_and_variables (from tensorflow.python.saved_model.builder_impl) with legacy_init_op is deprecated and will be removed in a future version.\n",
      "Instructions for updating:\n",
      "Pass your op to the equivalent parameter main_op instead.\n",
      "INFO:tensorflow:Assets added to graph.\n",
      "INFO:tensorflow:No assets to write.\n",
      "INFO:tensorflow:SavedModel written to: output\\export\\linear\\temp-b'1542011780'\\saved_model.pb\n",
      "INFO:tensorflow:Loss for final step: 0.00028473206.\n",
      "Average loss in testing: 0.0007\n"
     ]
    }
   ],
   "source": [
    "train_spec = tf.estimator.TrainSpec(train_input_fn, max_steps=2500)\n",
    "eval_spec = tf.estimator.EvalSpec(test_input_fn, steps=1, exporters=[exporter]) # Note!\n",
    "metrics, _ = tf.estimator.train_and_evaluate(regressor, train_spec, eval_spec)\n",
    "average_loss = metrics[\"average_loss\"]\n",
    "print(f\"Average loss in testing: {average_loss:.4f}\")"
   ]
  },
  {
   "cell_type": "code",
   "execution_count": null,
   "metadata": {},
   "outputs": [],
   "source": [
    "!gcloud ml-engine local predict --model-dir=./output/export/linear/1542011780/ --json-instances=./f1.json\n",
    "\n",
    "# location of saved_model.pb"
   ]
  },
  {
   "cell_type": "code",
   "execution_count": null,
   "metadata": {},
   "outputs": [],
   "source": [
    "!rm /tools/google-cloud-sdk/lib/googlecloudsdk/command_lib/ml_engine/*.pyc # if receive bad magic number error"
   ]
  }
 ],
 "metadata": {
  "kernelspec": {
   "display_name": "Python 3",
   "language": "python",
   "name": "python3"
  },
  "language_info": {
   "codemirror_mode": {
    "name": "ipython",
    "version": 3
   },
   "file_extension": ".py",
   "mimetype": "text/x-python",
   "name": "python",
   "nbconvert_exporter": "python",
   "pygments_lexer": "ipython3",
   "version": "3.6.7"
  }
 },
 "nbformat": 4,
 "nbformat_minor": 2
}
