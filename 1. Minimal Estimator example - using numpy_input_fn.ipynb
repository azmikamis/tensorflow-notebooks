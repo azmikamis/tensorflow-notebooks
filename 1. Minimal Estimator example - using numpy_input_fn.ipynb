{
 "cells": [
  {
   "cell_type": "code",
   "execution_count": 1,
   "metadata": {},
   "outputs": [],
   "source": [
    "import tensorflow as tf\n",
    "import numpy as np"
   ]
  },
  {
   "cell_type": "code",
   "execution_count": 2,
   "metadata": {},
   "outputs": [],
   "source": [
    "x_feature = tf.feature_column.numeric_column('f1')"
   ]
  },
  {
   "cell_type": "code",
   "execution_count": 3,
   "metadata": {},
   "outputs": [],
   "source": [
    "train_input_fn = tf.estimator.inputs.numpy_input_fn(\n",
    "      x = {\"f1\": np.array([1., 2., 3., 4.])},     # Input features\n",
    "      y = np.array([1.5, 3.5, 5.5, 7.5]),         # true labels\n",
    "      batch_size=2,\n",
    "      num_epochs=None,                            # Supply unlimited epochs of data\n",
    "      shuffle=True)\n",
    "\n",
    "test_input_fn = tf.estimator.inputs.numpy_input_fn(\n",
    "      x = {\"f1\": np.array([5., 6., 7.])},\n",
    "      y = np.array([9.5, 11.5, 13.5]),\n",
    "      num_epochs=1,\n",
    "      shuffle=False)\n",
    "\n",
    "samples = np.array([8., 9.])\n",
    "predict_input_fn = tf.estimator.inputs.numpy_input_fn(\n",
    "      x={\"f1\": samples},\n",
    "      num_epochs=1,\n",
    "      shuffle=False)"
   ]
  },
  {
   "cell_type": "code",
   "execution_count": 4,
   "metadata": {},
   "outputs": [
    {
     "name": "stdout",
     "output_type": "stream",
     "text": [
      "INFO:tensorflow:Using default config.\n",
      "INFO:tensorflow:Using config: {'_model_dir': './output', '_tf_random_seed': None, '_save_summary_steps': 100, '_save_checkpoints_steps': None, '_save_checkpoints_secs': 600, '_session_config': allow_soft_placement: true\n",
      "graph_options {\n",
      "  rewrite_options {\n",
      "    meta_optimizer_iterations: ONE\n",
      "  }\n",
      "}\n",
      ", '_keep_checkpoint_max': 5, '_keep_checkpoint_every_n_hours': 10000, '_log_step_count_steps': 100, '_train_distribute': None, '_device_fn': None, '_protocol': None, '_eval_distribute': None, '_experimental_distribute': None, '_service': None, '_cluster_spec': <tensorflow.python.training.server_lib.ClusterSpec object at 0x0000000004FA0828>, '_task_type': 'worker', '_task_id': 0, '_global_id_in_cluster': 0, '_master': '', '_evaluation_master': '', '_is_chief': True, '_num_ps_replicas': 0, '_num_worker_replicas': 1}\n"
     ]
    }
   ],
   "source": [
    "regressor = tf.estimator.LinearRegressor(\n",
    "    feature_columns=[x_feature],\n",
    "    model_dir='./output'\n",
    ")"
   ]
  },
  {
   "cell_type": "code",
   "execution_count": 5,
   "metadata": {},
   "outputs": [
    {
     "name": "stdout",
     "output_type": "stream",
     "text": [
      "WARNING:tensorflow:From d:\\users\\azmi.kamis\\appdata\\local\\continuum\\anaconda3\\envs\\dl\\lib\\site-packages\\tensorflow\\python\\estimator\\inputs\\queues\\feeding_queue_runner.py:62: QueueRunner.__init__ (from tensorflow.python.training.queue_runner_impl) is deprecated and will be removed in a future version.\n",
      "Instructions for updating:\n",
      "To construct input pipelines, use the `tf.data` module.\n",
      "WARNING:tensorflow:From d:\\users\\azmi.kamis\\appdata\\local\\continuum\\anaconda3\\envs\\dl\\lib\\site-packages\\tensorflow\\python\\estimator\\inputs\\queues\\feeding_functions.py:500: add_queue_runner (from tensorflow.python.training.queue_runner_impl) is deprecated and will be removed in a future version.\n",
      "Instructions for updating:\n",
      "To construct input pipelines, use the `tf.data` module.\n",
      "INFO:tensorflow:Calling model_fn.\n",
      "INFO:tensorflow:Done calling model_fn.\n",
      "INFO:tensorflow:Create CheckpointSaverHook.\n",
      "INFO:tensorflow:Graph was finalized.\n",
      "INFO:tensorflow:Running local_init_op.\n",
      "INFO:tensorflow:Done running local_init_op.\n",
      "WARNING:tensorflow:From d:\\users\\azmi.kamis\\appdata\\local\\continuum\\anaconda3\\envs\\dl\\lib\\site-packages\\tensorflow\\python\\training\\monitored_session.py:804: start_queue_runners (from tensorflow.python.training.queue_runner_impl) is deprecated and will be removed in a future version.\n",
      "Instructions for updating:\n",
      "To construct input pipelines, use the `tf.data` module.\n",
      "INFO:tensorflow:Saving checkpoints for 0 into ./output\\model.ckpt.\n",
      "INFO:tensorflow:loss = 86.5, step = 1\n",
      "INFO:tensorflow:global_step/sec: 781.25\n",
      "INFO:tensorflow:loss = 0.7409776, step = 101 (0.129 sec)\n",
      "INFO:tensorflow:global_step/sec: 862.068\n",
      "INFO:tensorflow:loss = 0.37989828, step = 201 (0.116 sec)\n",
      "INFO:tensorflow:global_step/sec: 1010.1\n",
      "INFO:tensorflow:loss = 0.78115857, step = 301 (0.100 sec)\n",
      "INFO:tensorflow:global_step/sec: 862.069\n",
      "INFO:tensorflow:loss = 0.58525485, step = 401 (0.115 sec)\n",
      "INFO:tensorflow:global_step/sec: 909.09\n",
      "INFO:tensorflow:loss = 0.4774766, step = 501 (0.110 sec)\n",
      "INFO:tensorflow:global_step/sec: 943.397\n",
      "INFO:tensorflow:loss = 0.0077090138, step = 601 (0.107 sec)\n",
      "INFO:tensorflow:global_step/sec: 869.565\n",
      "INFO:tensorflow:loss = 0.00575202, step = 701 (0.114 sec)\n",
      "INFO:tensorflow:global_step/sec: 775.194\n",
      "INFO:tensorflow:loss = 0.07920399, step = 801 (0.130 sec)\n",
      "INFO:tensorflow:global_step/sec: 847.457\n",
      "INFO:tensorflow:loss = 0.12392911, step = 901 (0.118 sec)\n",
      "INFO:tensorflow:global_step/sec: 884.955\n",
      "INFO:tensorflow:loss = 0.03215905, step = 1001 (0.113 sec)\n",
      "INFO:tensorflow:global_step/sec: 740.741\n",
      "INFO:tensorflow:loss = 0.071501926, step = 1101 (0.135 sec)\n",
      "INFO:tensorflow:global_step/sec: 884.956\n",
      "INFO:tensorflow:loss = 0.05476685, step = 1201 (0.112 sec)\n",
      "INFO:tensorflow:global_step/sec: 854.702\n",
      "INFO:tensorflow:loss = 0.03446876, step = 1301 (0.118 sec)\n",
      "INFO:tensorflow:global_step/sec: 862.069\n",
      "INFO:tensorflow:loss = 0.024195967, step = 1401 (0.115 sec)\n",
      "INFO:tensorflow:global_step/sec: 862.068\n",
      "INFO:tensorflow:loss = 0.014841094, step = 1501 (0.117 sec)\n",
      "INFO:tensorflow:global_step/sec: 746.268\n",
      "INFO:tensorflow:loss = 0.014206013, step = 1601 (0.133 sec)\n",
      "INFO:tensorflow:global_step/sec: 892.857\n",
      "INFO:tensorflow:loss = 0.00179747, step = 1701 (0.113 sec)\n",
      "INFO:tensorflow:global_step/sec: 854.702\n",
      "INFO:tensorflow:loss = 0.011400647, step = 1801 (0.116 sec)\n",
      "INFO:tensorflow:global_step/sec: 1020.41\n",
      "INFO:tensorflow:loss = 0.0062434766, step = 1901 (0.099 sec)\n",
      "INFO:tensorflow:global_step/sec: 719.425\n",
      "INFO:tensorflow:loss = 0.0048674885, step = 2001 (0.139 sec)\n",
      "INFO:tensorflow:global_step/sec: 877.192\n",
      "INFO:tensorflow:loss = 1.7911669e-05, step = 2101 (0.113 sec)\n",
      "INFO:tensorflow:global_step/sec: 847.457\n",
      "INFO:tensorflow:loss = 0.0010855123, step = 2201 (0.118 sec)\n",
      "INFO:tensorflow:global_step/sec: 800.002\n",
      "INFO:tensorflow:loss = 0.0006852947, step = 2301 (0.125 sec)\n",
      "INFO:tensorflow:global_step/sec: 826.444\n",
      "INFO:tensorflow:loss = 0.0010774703, step = 2401 (0.122 sec)\n",
      "INFO:tensorflow:Saving checkpoints for 2500 into ./output\\model.ckpt.\n",
      "INFO:tensorflow:Loss for final step: 0.00024643302.\n"
     ]
    },
    {
     "data": {
      "text/plain": [
       "<tensorflow.python.estimator.canned.linear.LinearRegressor at 0xc45bc88>"
      ]
     },
     "execution_count": 5,
     "metadata": {},
     "output_type": "execute_result"
    }
   ],
   "source": [
    "regressor.train(input_fn=train_input_fn, steps=2500)"
   ]
  },
  {
   "cell_type": "code",
   "execution_count": 6,
   "metadata": {},
   "outputs": [
    {
     "name": "stdout",
     "output_type": "stream",
     "text": [
      "INFO:tensorflow:Calling model_fn.\n",
      "INFO:tensorflow:Done calling model_fn.\n",
      "INFO:tensorflow:Starting evaluation at 2018-11-12-07:12:10\n",
      "INFO:tensorflow:Graph was finalized.\n",
      "INFO:tensorflow:Restoring parameters from ./output\\model.ckpt-2500\n",
      "INFO:tensorflow:Running local_init_op.\n",
      "INFO:tensorflow:Done running local_init_op.\n",
      "INFO:tensorflow:Finished evaluation at 2018-11-12-07:12:10\n",
      "INFO:tensorflow:Saving dict for global step 2500: average_loss = 0.0021440103, global_step = 2500, label/mean = 11.5, loss = 0.006432031, prediction/mean = 11.455306\n",
      "INFO:tensorflow:Saving 'checkpoint_path' summary for global step 2500: ./output\\model.ckpt-2500\n",
      "Average loss in testing: 0.0021\n"
     ]
    }
   ],
   "source": [
    "average_loss = regressor.evaluate(input_fn=test_input_fn)[\"average_loss\"]\n",
    "print(f\"Average loss in testing: {average_loss:.4f}\")"
   ]
  },
  {
   "cell_type": "code",
   "execution_count": 7,
   "metadata": {},
   "outputs": [
    {
     "name": "stdout",
     "output_type": "stream",
     "text": [
      "INFO:tensorflow:Calling model_fn.\n",
      "INFO:tensorflow:Done calling model_fn.\n",
      "INFO:tensorflow:Graph was finalized.\n",
      "INFO:tensorflow:Restoring parameters from ./output\\model.ckpt-2500\n",
      "INFO:tensorflow:Running local_init_op.\n",
      "INFO:tensorflow:Done running local_init_op.\n"
     ]
    }
   ],
   "source": [
    "predictions = list(regressor.predict(input_fn=predict_input_fn))"
   ]
  },
  {
   "cell_type": "code",
   "execution_count": 8,
   "metadata": {},
   "outputs": [
    {
     "name": "stdout",
     "output_type": "stream",
     "text": [
      "8.0 -> 15.4257\n",
      "9.0 -> 17.4108\n"
     ]
    }
   ],
   "source": [
    "for input, p in zip(samples, predictions):\n",
    "    v  = p[\"predictions\"][0]\n",
    "    print(f\"{input} -> {v:.4f}\")"
   ]
  }
 ],
 "metadata": {
  "kernelspec": {
   "display_name": "Python 3",
   "language": "python",
   "name": "python3"
  },
  "language_info": {
   "codemirror_mode": {
    "name": "ipython",
    "version": 3
   },
   "file_extension": ".py",
   "mimetype": "text/x-python",
   "name": "python",
   "nbconvert_exporter": "python",
   "pygments_lexer": "ipython3",
   "version": "3.6.7"
  }
 },
 "nbformat": 4,
 "nbformat_minor": 2
}
