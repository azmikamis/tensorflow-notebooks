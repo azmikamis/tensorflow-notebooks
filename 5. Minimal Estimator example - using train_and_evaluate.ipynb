{
 "cells": [
  {
   "cell_type": "code",
   "execution_count": 1,
   "metadata": {},
   "outputs": [],
   "source": [
    "import tensorflow as tf\n",
    "import numpy as np"
   ]
  },
  {
   "cell_type": "code",
   "execution_count": 2,
   "metadata": {},
   "outputs": [],
   "source": [
    "x_feature = tf.feature_column.numeric_column('f1')"
   ]
  },
  {
   "cell_type": "code",
   "execution_count": 3,
   "metadata": {},
   "outputs": [],
   "source": [
    "train_features = np.array([1., 2., 3., 4.])\n",
    "train_labels = np.array([1.5, 3.5, 5.5, 7.5])\n",
    "\n",
    "def train_input_fn():\n",
    "    def decode_csv(line):\n",
    "        parsed_line = tf.decode_csv(line, [[0.], [0.]])\n",
    "        label = parsed_line[-1:]  # Last element is the label\n",
    "        del parsed_line[-1]       # Delete last element\n",
    "        features = parsed_line\n",
    "        d = dict(zip([\"f1\"], features))\n",
    "        return d, tf.squeeze(label)\n",
    "    dataset = tf.data.TextLineDataset('train.csv').map(decode_csv)\n",
    "    dataset = dataset.shuffle(1000).repeat().batch(2)\n",
    "    #return dataset.make_one_shot_iterator().get_next()\n",
    "    return dataset\n",
    "\n",
    "test_features = np.array([5., 6., 7.])\n",
    "test_labels = np.array([9.5, 11.5, 13.5])\n",
    "\n",
    "def test_input_fn():\n",
    "    dataset = tf.data.Dataset.from_tensor_slices(({\"f1\": test_features}, test_labels))\n",
    "    dataset = dataset.repeat(1).batch(len(test_features)) # batch cannot be none\n",
    "    return dataset\n",
    "\n",
    "samples = np.array([8., 9.])\n",
    "def predict_input_fn():\n",
    "    dataset = tf.data.Dataset.from_tensor_slices(({\"f1\": samples}))\n",
    "    dataset = dataset.repeat(1).batch(len(samples)) # batch cannot be none\n",
    "    return dataset"
   ]
  },
  {
   "cell_type": "code",
   "execution_count": 4,
   "metadata": {},
   "outputs": [
    {
     "name": "stdout",
     "output_type": "stream",
     "text": [
      "INFO:tensorflow:Using config: {'_model_dir': './output', '_tf_random_seed': None, '_save_summary_steps': 100, '_save_checkpoints_steps': None, '_save_checkpoints_secs': 600, '_session_config': allow_soft_placement: true\n",
      "graph_options {\n",
      "  rewrite_options {\n",
      "    meta_optimizer_iterations: ONE\n",
      "  }\n",
      "}\n",
      ", '_keep_checkpoint_max': 5, '_keep_checkpoint_every_n_hours': 10000, '_log_step_count_steps': 100, '_train_distribute': None, '_device_fn': None, '_protocol': None, '_eval_distribute': None, '_experimental_distribute': None, '_service': None, '_cluster_spec': <tensorflow.python.training.server_lib.ClusterSpec object at 0x000000000C45AE48>, '_task_type': 'worker', '_task_id': 0, '_global_id_in_cluster': 0, '_master': '', '_evaluation_master': '', '_is_chief': True, '_num_ps_replicas': 0, '_num_worker_replicas': 1}\n"
     ]
    }
   ],
   "source": [
    "run_config = tf.estimator.RunConfig(\n",
    "    model_dir='./output'\n",
    ")\n",
    "regressor = tf.estimator.LinearRegressor(\n",
    "    feature_columns=[x_feature],\n",
    "    config = run_config\n",
    ")"
   ]
  },
  {
   "cell_type": "code",
   "execution_count": 5,
   "metadata": {},
   "outputs": [
    {
     "name": "stdout",
     "output_type": "stream",
     "text": [
      "INFO:tensorflow:Not using Distribute Coordinator.\n",
      "INFO:tensorflow:Running training and evaluation locally (non-distributed).\n",
      "INFO:tensorflow:Start train and evaluate loop. The evaluate will happen after every checkpoint. Checkpoint frequency is determined based on RunConfig arguments: save_checkpoints_steps None or save_checkpoints_secs 600.\n",
      "INFO:tensorflow:Calling model_fn.\n",
      "INFO:tensorflow:Done calling model_fn.\n",
      "INFO:tensorflow:Create CheckpointSaverHook.\n",
      "INFO:tensorflow:Graph was finalized.\n",
      "INFO:tensorflow:Running local_init_op.\n",
      "INFO:tensorflow:Done running local_init_op.\n",
      "INFO:tensorflow:Saving checkpoints for 0 into ./output\\model.ckpt.\n",
      "INFO:tensorflow:loss = 42.5, step = 1\n",
      "INFO:tensorflow:global_step/sec: 787.243\n",
      "INFO:tensorflow:loss = 1.0307117, step = 101 (0.129 sec)\n",
      "INFO:tensorflow:global_step/sec: 952.193\n",
      "INFO:tensorflow:loss = 0.2742919, step = 201 (0.105 sec)\n",
      "INFO:tensorflow:global_step/sec: 908.907\n",
      "INFO:tensorflow:loss = 0.46927574, step = 301 (0.110 sec)\n",
      "INFO:tensorflow:global_step/sec: 799.843\n",
      "INFO:tensorflow:loss = 0.06941355, step = 401 (0.125 sec)\n",
      "INFO:tensorflow:global_step/sec: 892.677\n",
      "INFO:tensorflow:loss = 0.084431395, step = 501 (0.112 sec)\n",
      "INFO:tensorflow:global_step/sec: 877.018\n",
      "INFO:tensorflow:loss = 0.20551495, step = 601 (0.115 sec)\n",
      "INFO:tensorflow:global_step/sec: 869.39\n",
      "INFO:tensorflow:loss = 0.060621582, step = 701 (0.114 sec)\n",
      "INFO:tensorflow:global_step/sec: 877.018\n",
      "INFO:tensorflow:loss = 0.09696214, step = 801 (0.114 sec)\n",
      "INFO:tensorflow:global_step/sec: 884.779\n",
      "INFO:tensorflow:loss = 0.01051236, step = 901 (0.113 sec)\n",
      "INFO:tensorflow:global_step/sec: 908.909\n",
      "INFO:tensorflow:loss = 0.046010844, step = 1001 (0.111 sec)\n",
      "INFO:tensorflow:global_step/sec: 819.509\n",
      "INFO:tensorflow:loss = 0.023124475, step = 1101 (0.122 sec)\n",
      "INFO:tensorflow:global_step/sec: 884.779\n",
      "INFO:tensorflow:loss = 0.021844616, step = 1201 (0.112 sec)\n",
      "INFO:tensorflow:global_step/sec: 877.016\n",
      "INFO:tensorflow:loss = 0.013210541, step = 1301 (0.114 sec)\n",
      "INFO:tensorflow:global_step/sec: 900.722\n",
      "INFO:tensorflow:loss = 0.0075636134, step = 1401 (0.112 sec)\n",
      "INFO:tensorflow:global_step/sec: 892.679\n",
      "INFO:tensorflow:loss = 0.003091643, step = 1501 (0.112 sec)\n",
      "INFO:tensorflow:global_step/sec: 884.777\n",
      "INFO:tensorflow:loss = 0.00078567857, step = 1601 (0.112 sec)\n",
      "INFO:tensorflow:global_step/sec: 884.779\n",
      "INFO:tensorflow:loss = 0.0024913237, step = 1701 (0.113 sec)\n",
      "INFO:tensorflow:global_step/sec: 861.898\n",
      "INFO:tensorflow:loss = 0.0020691338, step = 1801 (0.116 sec)\n",
      "INFO:tensorflow:global_step/sec: 908.909\n",
      "INFO:tensorflow:loss = 0.0016334829, step = 1901 (0.111 sec)\n",
      "INFO:tensorflow:global_step/sec: 884.779\n",
      "INFO:tensorflow:loss = 0.0008201289, step = 2001 (0.113 sec)\n",
      "INFO:tensorflow:global_step/sec: 869.39\n",
      "INFO:tensorflow:loss = 0.0005647565, step = 2101 (0.114 sec)\n",
      "INFO:tensorflow:global_step/sec: 892.681\n",
      "INFO:tensorflow:loss = 8.585966e-05, step = 2201 (0.113 sec)\n",
      "INFO:tensorflow:global_step/sec: 900.719\n",
      "INFO:tensorflow:loss = 0.00037047523, step = 2301 (0.111 sec)\n",
      "INFO:tensorflow:global_step/sec: 840.17\n",
      "INFO:tensorflow:loss = 0.00010979028, step = 2401 (0.118 sec)\n",
      "INFO:tensorflow:Saving checkpoints for 2500 into ./output\\model.ckpt.\n",
      "INFO:tensorflow:Calling model_fn.\n",
      "INFO:tensorflow:Done calling model_fn.\n",
      "INFO:tensorflow:Starting evaluation at 2018-11-12-07:29:54\n",
      "INFO:tensorflow:Graph was finalized.\n",
      "INFO:tensorflow:Restoring parameters from ./output\\model.ckpt-2500\n",
      "INFO:tensorflow:Running local_init_op.\n",
      "INFO:tensorflow:Done running local_init_op.\n",
      "INFO:tensorflow:Evaluation [1/1]\n",
      "INFO:tensorflow:Finished evaluation at 2018-11-12-07:29:55\n",
      "INFO:tensorflow:Saving dict for global step 2500: average_loss = 0.0003919756, global_step = 2500, label/mean = 11.5, loss = 0.0011759268, prediction/mean = 11.480836\n",
      "INFO:tensorflow:Saving 'checkpoint_path' summary for global step 2500: ./output\\model.ckpt-2500\n",
      "INFO:tensorflow:Loss for final step: 0.00013061112.\n",
      "Average loss in testing: 0.0004\n"
     ]
    }
   ],
   "source": [
    "train_spec = tf.estimator.TrainSpec(train_input_fn, max_steps=2500)\n",
    "eval_spec = tf.estimator.EvalSpec(test_input_fn, steps=1)\n",
    "metrics, _ = tf.estimator.train_and_evaluate(regressor, train_spec, eval_spec)\n",
    "average_loss = metrics[\"average_loss\"]\n",
    "print(f\"Average loss in testing: {average_loss:.4f}\")"
   ]
  },
  {
   "cell_type": "code",
   "execution_count": 6,
   "metadata": {},
   "outputs": [
    {
     "name": "stdout",
     "output_type": "stream",
     "text": [
      "INFO:tensorflow:Calling model_fn.\n",
      "INFO:tensorflow:Done calling model_fn.\n",
      "INFO:tensorflow:Graph was finalized.\n",
      "INFO:tensorflow:Restoring parameters from ./output\\model.ckpt-2500\n",
      "INFO:tensorflow:Running local_init_op.\n",
      "INFO:tensorflow:Done running local_init_op.\n",
      "8.0 -> 15.4687\n",
      "9.0 -> 17.4626\n"
     ]
    }
   ],
   "source": [
    "predictions = list(regressor.predict(input_fn=predict_input_fn))\n",
    "for input, p in zip(samples, predictions):\n",
    "    v  = p[\"predictions\"][0]\n",
    "    print(f\"{input} -> {v:.4f}\")"
   ]
  }
 ],
 "metadata": {
  "kernelspec": {
   "display_name": "Python 3",
   "language": "python",
   "name": "python3"
  },
  "language_info": {
   "codemirror_mode": {
    "name": "ipython",
    "version": 3
   },
   "file_extension": ".py",
   "mimetype": "text/x-python",
   "name": "python",
   "nbconvert_exporter": "python",
   "pygments_lexer": "ipython3",
   "version": "3.6.7"
  }
 },
 "nbformat": 4,
 "nbformat_minor": 2
}
