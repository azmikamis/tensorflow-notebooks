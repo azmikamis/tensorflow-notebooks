{
 "cells": [
  {
   "cell_type": "code",
   "execution_count": null,
   "metadata": {},
   "outputs": [],
   "source": [
    "!gcloud ml-engine jobs submit training mnist_estimator_`date +%s` \\\n",
    "--staging-bucket gs://mnist-estimator/ \\\n",
    "--module-name trainer.task \\\n",
    "--package-path trainer \\\n",
    "--region europe-west1 \\\n",
    "--runtime-version 1.8 \\\n",
    "--python-version 3.5 \\"
   ]
  },
  {
   "cell_type": "code",
   "execution_count": null,
   "metadata": {},
   "outputs": [],
   "source": [
    "!gcloud ml-engine models create \"model_name\""
   ]
  },
  {
   "cell_type": "code",
   "execution_count": null,
   "metadata": {},
   "outputs": [],
   "source": [
    "!gcloud ml-engine versions create \"version_name\"\\\n",
    "    --model \"model_name\" --origin $DEPLOYMENT_SOURCE"
   ]
  },
  {
   "cell_type": "code",
   "execution_count": null,
   "metadata": {},
   "outputs": [],
   "source": [
    "from googleapiclient.discovery import build\n",
    "from oauth2client.client import GoogleCredentials\n",
    "from datetime import datetime\n",
    "\n",
    "samples = np.array([8., 9.])\n",
    "\n",
    "credentials = GoogleCredentials.get_application_default()\n",
    "service = build('ml', 'v1', credentials=credentials)\n",
    "request = service.projects().predict(\n",
    "              name='projects/PROJECT-ID/models/MODEL-NAME/versions/VERSION',\n",
    "              body={\"instances\": samples.tolist()\n",
    "                   })\n",
    "response = request.execute()\n",
    "print(response)"
   ]
  },
  {
   "cell_type": "code",
   "execution_count": null,
   "metadata": {},
   "outputs": [],
   "source": [
    "predictions = response['predictions']\n",
    "#cls = [p['probabilities'] for p in predictions]"
   ]
  },
  {
   "cell_type": "markdown",
   "metadata": {},
   "source": [
    "### online"
   ]
  },
  {
   "cell_type": "code",
   "execution_count": null,
   "metadata": {},
   "outputs": [],
   "source": [
    "!gcloud ml-engine predict --model=est_mnist --version=v2 --json-instances=./f1.json"
   ]
  },
  {
   "cell_type": "markdown",
   "metadata": {},
   "source": [
    "### batch"
   ]
  },
  {
   "cell_type": "code",
   "execution_count": null,
   "metadata": {},
   "outputs": [],
   "source": [
    "!gsutil cp test.json gs://mnist-estimator/batchpred/inputs.json"
   ]
  },
  {
   "cell_type": "code",
   "execution_count": null,
   "metadata": {},
   "outputs": [],
   "source": [
    "!gcloud ml-engine jobs submit prediction mnist_estimator_pred_`date +%s` \\\n",
    "--region europe-west1 \\\n",
    "--data-format=TEXT \\\n",
    "--input-paths=gs://mnist-estimator/batchpred/inputs.json \\\n",
    "--output-path=gs://mnist-estimator/batchpred/outputs \\\n",
    "--model=est_mnist --version=v2"
   ]
  }
 ],
 "metadata": {
  "kernelspec": {
   "display_name": "Python 3",
   "language": "python",
   "name": "python3"
  },
  "language_info": {
   "codemirror_mode": {
    "name": "ipython",
    "version": 3
   },
   "file_extension": ".py",
   "mimetype": "text/x-python",
   "name": "python",
   "nbconvert_exporter": "python",
   "pygments_lexer": "ipython3",
   "version": "3.6.7"
  }
 },
 "nbformat": 4,
 "nbformat_minor": 2
}
